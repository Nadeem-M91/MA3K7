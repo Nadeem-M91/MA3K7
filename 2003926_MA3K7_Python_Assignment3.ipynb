{
 "cells": [
  {
   "cell_type": "code",
   "execution_count": 1,
   "metadata": {},
   "outputs": [],
   "source": [
    "import numpy as np\n",
    "import matplotlib.pyplot as plt"
   ]
  },
  {
   "cell_type": "markdown",
   "metadata": {},
   "source": [
    "This first part runs a simulation for the hat problem, 1000 times for each value of n up to 20."
   ]
  },
  {
   "cell_type": "code",
   "execution_count": 2,
   "metadata": {},
   "outputs": [
    {
     "name": "stdout",
     "output_type": "stream",
     "text": [
      "For n = 1: {1: 1000}\n",
      "For n = 2: {1: 1000}\n",
      "For n = 3: {0: 667, 2: 333}\n",
      "For n = 4: {2: 467, 0: 415, 4: 118}\n",
      "For n = 5: {1: 620, 5: 47, 3: 333}\n",
      "For n = 6: {1: 580, 3: 336, 5: 84}\n",
      "For n = 7: {6: 52, 0: 308, 2: 434, 4: 206}\n",
      "For n = 8: {2: 364, 4: 223, 6: 87, 8: 24, 0: 302}\n",
      "For n = 9: {5: 162, 1: 464, 7: 75, 9: 9, 3: 290}\n",
      "For n = 10: {1: 435, 3: 285, 5: 179, 7: 75, 9: 26}\n",
      "For n = 11: {2: 349, 4: 226, 8: 61, 6: 117, 0: 233, 10: 14}\n",
      "For n = 12: {2: 345, 0: 210, 4: 229, 8: 75, 6: 110, 10: 28, 12: 3}\n",
      "For n = 13: {3: 267, 7: 101, 1: 349, 5: 193, 9: 52, 11: 36, 13: 2}\n",
      "For n = 14: {1: 368, 7: 112, 3: 234, 5: 191, 13: 9, 9: 52, 11: 34}\n",
      "For n = 15: {0: 198, 2: 289, 4: 184, 10: 42, 12: 25, 8: 102, 6: 153, 14: 7}\n",
      "For n = 16: {4: 220, 2: 253, 0: 170, 6: 152, 8: 87, 10: 65, 12: 32, 14: 20, 16: 1}\n",
      "For n = 17: {11: 60, 9: 84, 5: 146, 1: 310, 7: 121, 3: 244, 13: 22, 15: 13}\n",
      "For n = 18: {3: 230, 1: 304, 5: 144, 17: 3, 7: 141, 11: 55, 9: 89, 13: 25, 15: 9}\n",
      "For n = 19: {0: 149, 4: 201, 6: 155, 2: 254, 12: 38, 10: 64, 14: 25, 8: 93, 16: 16, 18: 5}\n",
      "For n = 20: {2: 249, 0: 149, 6: 126, 4: 205, 16: 12, 12: 53, 10: 78, 8: 94, 18: 6, 14: 28}\n"
     ]
    }
   ],
   "source": [
    "# Define our simulaton\n",
    "def run_simulation(n, num_simulations):\n",
    "    results = {}\n",
    "    for _ in range(num_simulations):\n",
    "        hat = np.arange(1, n + 1)\n",
    "\n",
    "        # Formula for the hat problem\n",
    "        while len(hat) > 1:\n",
    "            np.random.shuffle(hat)\n",
    "            draw = np.sort(hat[:2])\n",
    "            difference = draw[1] - draw[0]\n",
    "            hat = np.append(hat[2:], difference)\n",
    "\n",
    "        final_number = hat[0]\n",
    "        results[final_number] = results.get(final_number, 0) + 1\n",
    "\n",
    "    return results\n",
    "\n",
    "# Run simulation 1000 times\n",
    "def main():\n",
    "    num_simulations = 1000\n",
    "\n",
    "    for n in range(1, 21):\n",
    "        simulation_results = run_simulation(n, num_simulations)\n",
    "        print(f\"For n = {n}: {simulation_results}\")\n",
    "\n",
    "if __name__ == \"__main__\":\n",
    "    main()\n"
   ]
  },
  {
   "cell_type": "markdown",
   "metadata": {},
   "source": [
    "CHECK: This next part checks my conjecture that for n=2024, I expect all final numbers to be even."
   ]
  },
  {
   "cell_type": "code",
   "execution_count": 3,
   "metadata": {},
   "outputs": [
    {
     "name": "stdout",
     "output_type": "stream",
     "text": [
      "Simulation results: {90: 7, 416: 2, 104: 4, 54: 5, 14: 3, 284: 5, 176: 5, 634: 2, 76: 6, 144: 6, 234: 4, 328: 5, 310: 3, 494: 4, 208: 4, 244: 3, 20: 7, 344: 3, 98: 7, 314: 6, 228: 3, 360: 3, 606: 1, 656: 4, 592: 1, 408: 2, 312: 4, 366: 2, 132: 4, 1084: 1, 302: 3, 692: 1, 230: 3, 22: 5, 128: 6, 204: 3, 166: 3, 1012: 2, 278: 4, 524: 1, 346: 2, 986: 1, 100: 4, 288: 4, 82: 3, 60: 9, 190: 3, 68: 5, 112: 2, 502: 1, 148: 3, 654: 3, 984: 2, 650: 3, 26: 9, 334: 4, 810: 1, 84: 8, 1034: 1, 600: 1, 292: 3, 216: 2, 382: 5, 34: 4, 56: 7, 152: 4, 168: 5, 136: 7, 920: 2, 18: 9, 32: 5, 356: 3, 566: 3, 306: 3, 146: 6, 796: 1, 316: 3, 232: 7, 598: 1, 80: 9, 370: 4, 218: 5, 236: 4, 170: 4, 194: 4, 78: 6, 4: 5, 212: 2, 92: 7, 286: 5, 802: 1, 520: 1, 38: 4, 94: 5, 110: 2, 156: 3, 268: 1, 430: 5, 358: 2, 636: 3, 426: 2, 250: 6, 102: 7, 188: 3, 10: 3, 1142: 1, 402: 3, 246: 5, 186: 5, 242: 3, 858: 1, 638: 2, 50: 7, 500: 3, 406: 2, 368: 2, 248: 3, 2: 3, 348: 1, 262: 6, 352: 4, 724: 2, 1148: 1, 182: 4, 258: 4, 682: 2, 308: 5, 30: 3, 226: 5, 380: 1, 72: 3, 404: 1, 446: 4, 276: 3, 164: 3, 420: 2, 64: 2, 174: 6, 556: 4, 238: 3, 832: 1, 116: 4, 96: 2, 220: 5, 48: 3, 572: 3, 180: 7, 648: 2, 300: 4, 324: 2, 1196: 1, 162: 6, 280: 1, 422: 3, 448: 1, 836: 1, 418: 2, 1276: 1, 330: 1, 496: 2, 126: 7, 588: 1, 608: 3, 548: 2, 58: 6, 414: 1, 646: 1, 134: 6, 0: 1, 222: 4, 780: 1, 860: 3, 544: 2, 560: 1, 570: 1, 206: 2, 36: 3, 450: 2, 772: 2, 202: 6, 374: 2, 1040: 1, 528: 3, 386: 2, 846: 1, 40: 5, 42: 4, 74: 1, 866: 1, 354: 4, 332: 2, 142: 2, 794: 1, 660: 1, 498: 1, 696: 1, 294: 2, 700: 1, 86: 2, 6: 3, 272: 2, 114: 6, 254: 3, 172: 2, 320: 3, 138: 3, 474: 3, 108: 4, 748: 1, 336: 1, 326: 4, 436: 3, 240: 3, 394: 4, 642: 1, 178: 1, 536: 2, 16: 4, 510: 2, 364: 2, 1004: 1, 150: 2, 428: 2, 926: 1, 196: 1, 118: 1, 518: 2, 614: 3, 516: 2, 198: 2, 88: 6, 552: 1, 438: 2, 872: 1, 546: 2, 678: 2, 1204: 1, 762: 1, 130: 3, 264: 5, 736: 2, 124: 7, 298: 2, 804: 1, 214: 3, 210: 4, 470: 1, 512: 3, 44: 7, 768: 1, 66: 5, 1050: 1, 464: 2, 558: 1, 824: 1, 1066: 1, 266: 2, 460: 3, 586: 1, 522: 1, 322: 4, 744: 1, 1114: 1, 720: 2, 694: 1, 618: 1, 914: 1, 702: 1, 252: 1, 730: 2, 224: 3, 484: 2, 362: 1, 1166: 2, 456: 1, 850: 1, 340: 3, 594: 1, 158: 3, 554: 3, 828: 1, 290: 3, 62: 3, 378: 1, 122: 3, 372: 3, 396: 1, 540: 2, 652: 1, 578: 1, 70: 2, 770: 1, 492: 1, 466: 1, 282: 2, 350: 2, 774: 1, 842: 1, 602: 1, 410: 2, 8: 4, 1222: 1, 790: 1, 562: 2, 758: 2, 708: 1, 686: 1, 904: 1, 882: 1, 24: 2, 468: 1, 916: 1, 604: 2, 532: 1, 806: 1, 812: 1, 472: 1, 376: 2, 898: 1, 506: 1, 434: 2, 704: 1, 864: 1, 658: 1, 764: 1, 1026: 1, 1032: 1, 680: 2, 140: 4, 534: 2, 482: 1, 28: 1, 630: 2, 46: 3, 626: 1, 390: 2, 542: 1, 766: 1, 760: 2, 712: 1, 444: 1, 458: 1, 706: 1, 106: 2, 644: 1, 160: 2, 612: 2, 274: 2, 538: 2, 934: 1, 1192: 1, 662: 1, 838: 2, 722: 1, 192: 2, 12: 3, 462: 1, 1112: 1, 342: 1, 1246: 1, 670: 1, 508: 1, 1136: 1, 784: 1, 514: 1, 120: 2, 1474: 1, 854: 1, 892: 1, 504: 1, 490: 1, 674: 1, 388: 1, 454: 1, 814: 1, 1322: 1, 256: 1, 476: 1, 622: 2, 442: 1, 826: 2, 184: 2, 154: 2, 816: 1, 1366: 1, 710: 1, 878: 1, 1068: 1, 574: 1, 568: 1, 1880: 1, 752: 1, 734: 1, 384: 1, 928: 1, 844: 1, 698: 1, 424: 1, 684: 1, 818: 1}\n"
     ]
    },
    {
     "data": {
      "image/png": "[encoded data removed]",
      "text/plain": [
       "<Figure size 432x288 with 1 Axes>"
      ]
     },
     "metadata": {
      "needs_background": "light"
     },
     "output_type": "display_data"
    }
   ],
   "source": [
    "# Define simulation and make our hat problem conditions and show results\n",
    "def run_simulation(n, num_simulations):\n",
    "    results = {}\n",
    "    for _ in range(num_simulations):\n",
    "        hat = np.arange(1, n + 1)\n",
    "\n",
    "        while len(hat) > 1:\n",
    "            np.random.shuffle(hat)\n",
    "            draw = np.sort(hat[:2])\n",
    "            difference = draw[1] - draw[0]\n",
    "            hat = np.append(hat[2:], difference)\n",
    "\n",
    "        final_number = hat[0]\n",
    "        results[final_number] = results.get(final_number, 0) + 1\n",
    "\n",
    "    return results\n",
    "\n",
    "# Make a chart to show a simple distribution of the final numbers\n",
    "def main():\n",
    "    num_simulations = 1000\n",
    "    n = 2024\n",
    "\n",
    "    simulation_results = run_simulation(n, num_simulations)\n",
    "    print(f\"Simulation results: {simulation_results}\")\n",
    "\n",
    "    numbers = list(simulation_results.keys())\n",
    "    frequencies = list(simulation_results.values())\n",
    "\n",
    "    plt.bar(numbers, frequencies, color='blue', alpha=0.7)\n",
    "    plt.xlabel('Final Number')\n",
    "    plt.ylabel('Frequency')\n",
    "    plt.title(f'Simulation Results for n={n}')\n",
    "    plt.show()\n",
    "\n",
    "if __name__ == \"__main__\":\n",
    "    main()\n"
   ]
  },
  {
   "cell_type": "markdown",
   "metadata": {},
   "source": [
    "EXTENTION: Negative numbers allowed in the hat!!!"
   ]
  },
  {
   "cell_type": "code",
   "execution_count": 4,
   "metadata": {},
   "outputs": [
    {
     "name": "stdout",
     "output_type": "stream",
     "text": [
      "Simulation results: {'positive': 490, 'negative': 510, 'zero': 0}\n",
      "Percentage of positive final numbers: 49.00%\n",
      "Percentage of negative final numbers: 51.00%\n",
      "Percentage of zero final numbers: 0.00%\n"
     ]
    }
   ],
   "source": [
    "# Define same problems as before, but take into account the ordering of the numbers picked out of the hat for subtraction\n",
    "def run_simulation(n, num_simulations):\n",
    "    results = {'positive': 0, 'negative': 0, 'zero': 0}\n",
    "    \n",
    "    for _ in range(num_simulations):\n",
    "        hat = np.arange(1, n + 1)\n",
    "\n",
    "        while len(hat) > 1:\n",
    "            np.random.shuffle(hat)\n",
    "            difference = hat[0] - hat[1]\n",
    "            hat = np.array([difference] + list(hat[2:]))\n",
    "\n",
    "        final_number = hat[0]\n",
    "        results['positive' if final_number > 0 else ('negative' if final_number < 0 else 'zero')] += 1\n",
    "\n",
    "    return results\n",
    "\n",
    "\n",
    "# Print results to see how many positive/negative and get percentage\n",
    "def main():\n",
    "    num_simulations = 1000\n",
    "    n = 2024\n",
    "\n",
    "    simulation_results = run_simulation(n, num_simulations)\n",
    "    print(f\"Simulation results: {simulation_results}\")\n",
    "\n",
    "    total_simulations = num_simulations\n",
    "    percentage_positive = (simulation_results['positive'] / total_simulations) * 100\n",
    "    percentage_negative = (simulation_results['negative'] / total_simulations) * 100\n",
    "    percentage_zero = (simulation_results['zero'] / total_simulations) * 100\n",
    "\n",
    "    print(f\"Percentage of positive final numbers: {percentage_positive:.2f}%\")\n",
    "    print(f\"Percentage of negative final numbers: {percentage_negative:.2f}%\")\n",
    "    print(f\"Percentage of zero final numbers: {percentage_zero:.2f}%\")\n",
    "\n",
    "if __name__ == \"__main__\":\n",
    "    main()\n"
   ]
  },
  {
   "cell_type": "code",
   "execution_count": null,
   "metadata": {},
   "outputs": [],
   "source": []
  }
 ],
 "metadata": {
  "kernelspec": {
   "display_name": "Python 3",
   "language": "python",
   "name": "python3"
  },
  "language_info": {
   "codemirror_mode": {
    "name": "ipython",
    "version": 3
   },
   "file_extension": ".py",
   "mimetype": "text/x-python",
   "name": "python",
   "nbconvert_exporter": "python",
   "pygments_lexer": "ipython3",
   "version": "3.8.5"
  }
 },
 "nbformat": 4,
 "nbformat_minor": 4
}
