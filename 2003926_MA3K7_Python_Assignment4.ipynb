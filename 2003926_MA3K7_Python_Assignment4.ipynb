{
 "cells": [
  {
   "cell_type": "code",
   "execution_count": 1,
   "metadata": {},
   "outputs": [],
   "source": [
    "import numpy as np\n",
    "import math\n",
    "import matplotlib.pyplot as plt"
   ]
  },
  {
   "cell_type": "markdown",
   "metadata": {},
   "source": [
    "This first part of my code is the formula for the binomial probability, and I can change my 3 parameters: n,k and p to get every single probability that I am looking to find in order to get to my solution."
   ]
  },
  {
   "cell_type": "code",
   "execution_count": 2,
   "metadata": {},
   "outputs": [
    {
     "name": "stdout",
     "output_type": "stream",
     "text": [
      "The probability of getting exactly 1 head in 23 coin flips is: 0.0002\n"
     ]
    }
   ],
   "source": [
    "n = 12  # number of coin flips\n",
    "k = 12   # number of 2's\n",
    "p = 0.5  # probability of getting a 2 is 0.5 because we are using a fair coin\n",
    "\n",
    "# Calculate binomial coefficient\n",
    "binomial_coefficient = math.comb(n, k)\n",
    "\n",
    "# Calculate probability using the binomial probability formula\n",
    "probability = binomial_coefficient * (p**k) * ((1-p)**(n-k))\n",
    "\n",
    "print(f\"The probability of getting exactly 1 head in 23 coin flips is: {probability:.4f}\")\n"
   ]
  },
  {
   "cell_type": "markdown",
   "metadata": {},
   "source": [
    "EXTENTION: The first part of my extention will look at the probability of landing on 25 based on my new conditions, where we now have a 3-sided dice with the numbers -1,1,2."
   ]
  },
  {
   "cell_type": "code",
   "execution_count": 3,
   "metadata": {},
   "outputs": [
    {
     "name": "stdout",
     "output_type": "stream",
     "text": [
      "The probability of landing on step 25 is approximately: 0.0309\n"
     ]
    }
   ],
   "source": [
    "# Define game where I start in the number 1\n",
    "def simulate_game():\n",
    "    position = 1\n",
    "    steps = 0\n",
    "\n",
    "    # Randomly choose one of the options from the 3-sided dice\n",
    "    while position < 25:\n",
    "        dice_result = np.random.choice([-1, 1, 2])\n",
    "        position += dice_result\n",
    "        steps += 1\n",
    "\n",
    "    return steps\n",
    "\n",
    "# Define the function to find the probability\n",
    "def calculate_probability(num_simulations):\n",
    "    successful_simulations = 0\n",
    "\n",
    "    for _ in range(num_simulations):\n",
    "        steps = simulate_game()\n",
    "        if steps <= 100:  # Set a maximum number of steps to avoid infinite loops\n",
    "            if steps == 25:\n",
    "                successful_simulations += 1\n",
    "\n",
    "    probability = successful_simulations / num_simulations\n",
    "    return probability\n",
    "\n",
    "# Set the number of simulations\n",
    "num_simulations = 10000\n",
    "\n",
    "# Calculate and print the probability\n",
    "probability = calculate_probability(num_simulations)\n",
    "print(f\"The probability of landing on step 25 is approximately: {probability:.4f}\")\n"
   ]
  },
  {
   "cell_type": "markdown",
   "metadata": {},
   "source": [
    "EXTENTION: The second part of my extention looks at how many steps it takes to land on the number 25, when we do land on 25."
   ]
  },
  {
   "cell_type": "code",
   "execution_count": 4,
   "metadata": {},
   "outputs": [
    {
     "data": {
      "image/png": "[encoded data removed]",
      "text/plain": [
       "<Figure size 432x288 with 1 Axes>"
      ]
     },
     "metadata": {
      "needs_background": "light"
     },
     "output_type": "display_data"
    }
   ],
   "source": [
    "# Define the walk with the same conditions as the last part\n",
    "def simulate_walk():\n",
    "    position = 1\n",
    "    steps = np.array([-1, 1, 2])\n",
    "    num_steps = 0\n",
    "\n",
    "    # Randomly choose either -1,1,2\n",
    "    while position < 25:\n",
    "        step = np.random.choice(steps)\n",
    "        position += step\n",
    "        num_steps += 1\n",
    "\n",
    "    return num_steps\n",
    "\n",
    "def run_simulation(num_simulations):\n",
    "    results = []\n",
    "\n",
    "    for _ in range(num_simulations):\n",
    "        steps = simulate_walk()\n",
    "        results.append(steps)\n",
    "\n",
    "    return results\n",
    "\n",
    "# Define and create a histogram to show the simulation\n",
    "def create_histogram(results):\n",
    "    plt.hist(results, bins=np.arange(min(results), max(results)+2)-0.5, edgecolor='black')\n",
    "    plt.xlabel('Number of dice rolls until I land on 25')\n",
    "    plt.ylabel('Frequency')\n",
    "    plt.title('The number of rolls of the dice to land on 25 for 10000 simulations')\n",
    "    plt.show()\n",
    "\n",
    "# Set the number of simulations\n",
    "num_simulations = 10000\n",
    "\n",
    "# Run the simulation\n",
    "simulation_results = run_simulation(num_simulations)\n",
    "\n",
    "create_histogram(simulation_results)"
   ]
  }
 ],
 "metadata": {
  "kernelspec": {
   "display_name": "Python 3",
   "language": "python",
   "name": "python3"
  },
  "language_info": {
   "codemirror_mode": {
    "name": "ipython",
    "version": 3
   },
   "file_extension": ".py",
   "mimetype": "text/x-python",
   "name": "python",
   "nbconvert_exporter": "python",
   "pygments_lexer": "ipython3",
   "version": "3.8.5"
  }
 },
 "nbformat": 4,
 "nbformat_minor": 4
}
